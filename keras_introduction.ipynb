{
  "nbformat": 4,
  "nbformat_minor": 0,
  "metadata": {
    "colab": {
      "name": "Praktikum5_Keras.ipynb",
      "provenance": [],
      "collapsed_sections": []
    },
    "kernelspec": {
      "name": "python3",
      "display_name": "Python 3"
    },
    "language_info": {
      "name": "python"
    },
    "accelerator": "TPU"
  },
  "cells": [
    {
      "cell_type": "code",
      "metadata": {
        "id": "KoBgUdkxCKb3"
      },
      "source": [
        "# import modules\n",
        "import os\n",
        "import numpy as np\n",
        "from keras.datasets import cifar10\n",
        "from keras.models import Sequential\n",
        "from keras.layers.core import Dense, Dropout, Activation\n",
        "from tensorflow.keras.optimizers import Adam\n",
        "from keras.utils import np_utils\n",
        "from keras.callbacks import EarlyStopping"
      ],
      "execution_count": null,
      "outputs": []
    },
    {
      "cell_type": "code",
      "metadata": {
        "id": "n4zYnAFuC92L",
        "colab": {
          "base_uri": "https://localhost:8080/"
        },
        "outputId": "3efa6820-888f-421b-ed38-3b612c0bb669"
      },
      "source": [
        "# Load Data\n",
        "np.random.seed(100) # for reproducibility\n",
        "(X_train, y_train), (X_test, y_test) = cifar10.load_data()"
      ],
      "execution_count": null,
      "outputs": [
        {
          "output_type": "stream",
          "name": "stdout",
          "text": [
            "Downloading data from https://www.cs.toronto.edu/~kriz/cifar-10-python.tar.gz\n",
            "170500096/170498071 [==============================] - 3s 0us/step\n",
            "170508288/170498071 [==============================] - 3s 0us/step\n"
          ]
        }
      ]
    },
    {
      "cell_type": "code",
      "metadata": {
        "id": "nUNq4GpoEM4T"
      },
      "source": [
        "# Preprocess the data\n",
        "# Flatten the data, MLP doesnn't use the 2D structure of the data.\n",
        "# 3072 = 3 * 32 *32\n",
        "X_train = X_train.reshape(50000, 3072) # 50,000 images untuk training\n",
        "X_test = X_test.reshape(10000, 3072) # 10,000 images untuk test\n",
        "\n",
        "# Gaussian Normalization\n",
        "X_train = (X_train - np.mean(X_train)) / np.std(X_train)\n",
        "X_test = (X_test - np.mean(X_test)) / np.std(X_test)\n",
        "\n",
        "# Convert class vectors to binary class matrices\n",
        "labels = 10 # 10 unique label (0-9)\n",
        "Y_train = np_utils.to_categorical(y_train, labels)\n",
        "Y_test = np_utils.to_categorical(y_test, labels)\n"
      ],
      "execution_count": null,
      "outputs": []
    },
    {
      "cell_type": "code",
      "metadata": {
        "id": "kX374d5WkNHH"
      },
      "source": [
        "# Define the model architecture\n",
        "model = Sequential()\n",
        "model.add(Dense(512, input_shape=(3072, ))) # 3*32*32\n",
        "model.add(Activation('relu'))\n",
        "model.add(Dropout(0.4)) # Regularization\n",
        "model.add(Dense(120))\n",
        "model.add(Activation('relu'))\n",
        "model.add(Dropout(0.2)) # Regularization\n",
        "model.add(Dense(10))\n",
        "model.add(Activation('sigmoid'))"
      ],
      "execution_count": null,
      "outputs": []
    },
    {
      "cell_type": "code",
      "metadata": {
        "id": "yy5JeNCpmwhq"
      },
      "source": [
        "# Compile the model\n",
        "# Use adam as an optimizer\n",
        "optimizer = Adam(epsilon=1e-07,\n",
        "                learning_rate=0.01,\n",
        "                beta_1=0.9,\n",
        "                beta_2=0.999)\n",
        "\n",
        "model.compile(loss='categorical_crossentropy',\n",
        "              optimizer=optimizer,\n",
        "              metrics=['accuracy'])"
      ],
      "execution_count": null,
      "outputs": []
    },
    {
      "cell_type": "code",
      "metadata": {
        "colab": {
          "base_uri": "https://localhost:8080/"
        },
        "id": "EfJDlKb9nKDq",
        "outputId": "7144a6fb-68ba-4e99-923a-ed119bbe6cf8"
      },
      "source": [
        "# Make the model learn\n",
        "early_stopping_monitor = EarlyStopping(patience=7)\n",
        "model.fit(X_train, Y_train,\n",
        "          batch_size=1000,\n",
        "          epochs=50,\n",
        "          validation_data=(X_test, Y_test),\n",
        "          callbacks = [early_stopping_monitor])\n"
      ],
      "execution_count": null,
      "outputs": [
        {
          "output_type": "stream",
          "name": "stdout",
          "text": [
            "Epoch 1/50\n",
            "50/50 [==============================] - 10s 206ms/step - loss: 1.9947 - accuracy: 0.2168 - val_loss: 1.9140 - val_accuracy: 0.2506\n",
            "Epoch 2/50\n",
            "50/50 [==============================] - 8s 166ms/step - loss: 1.9940 - accuracy: 0.2210 - val_loss: 1.9091 - val_accuracy: 0.2426\n",
            "Epoch 3/50\n",
            "50/50 [==============================] - 9s 176ms/step - loss: 1.9883 - accuracy: 0.2250 - val_loss: 1.9059 - val_accuracy: 0.2598\n",
            "Epoch 4/50\n",
            "50/50 [==============================] - 8s 150ms/step - loss: 1.9877 - accuracy: 0.2223 - val_loss: 1.9148 - val_accuracy: 0.2559\n",
            "Epoch 5/50\n",
            "50/50 [==============================] - 10s 203ms/step - loss: 1.9843 - accuracy: 0.2261 - val_loss: 1.8966 - val_accuracy: 0.2667\n",
            "Epoch 6/50\n",
            "50/50 [==============================] - 8s 164ms/step - loss: 1.9774 - accuracy: 0.2275 - val_loss: 1.9039 - val_accuracy: 0.2433\n",
            "Epoch 7/50\n",
            "50/50 [==============================] - 9s 178ms/step - loss: 1.9745 - accuracy: 0.2259 - val_loss: 1.9057 - val_accuracy: 0.2497\n",
            "Epoch 8/50\n",
            "50/50 [==============================] - 9s 180ms/step - loss: 1.9715 - accuracy: 0.2284 - val_loss: 1.9137 - val_accuracy: 0.2531\n",
            "Epoch 9/50\n",
            "50/50 [==============================] - 9s 177ms/step - loss: 1.9708 - accuracy: 0.2302 - val_loss: 1.8966 - val_accuracy: 0.2492\n",
            "Epoch 10/50\n",
            "50/50 [==============================] - 8s 165ms/step - loss: 1.9645 - accuracy: 0.2345 - val_loss: 1.8828 - val_accuracy: 0.2668\n",
            "Epoch 11/50\n",
            "50/50 [==============================] - 8s 153ms/step - loss: 1.9441 - accuracy: 0.2510 - val_loss: 1.8530 - val_accuracy: 0.2905\n",
            "Epoch 12/50\n",
            "50/50 [==============================] - 10s 191ms/step - loss: 1.9269 - accuracy: 0.2602 - val_loss: 1.8369 - val_accuracy: 0.2743\n",
            "Epoch 13/50\n",
            "50/50 [==============================] - 10s 193ms/step - loss: 1.9071 - accuracy: 0.2642 - val_loss: 1.8236 - val_accuracy: 0.3051\n",
            "Epoch 14/50\n",
            "50/50 [==============================] - 9s 188ms/step - loss: 1.8839 - accuracy: 0.2727 - val_loss: 1.8113 - val_accuracy: 0.3005\n",
            "Epoch 15/50\n",
            "50/50 [==============================] - 9s 183ms/step - loss: 1.8774 - accuracy: 0.2774 - val_loss: 1.7987 - val_accuracy: 0.3169\n",
            "Epoch 16/50\n",
            "50/50 [==============================] - 8s 170ms/step - loss: 1.8685 - accuracy: 0.2811 - val_loss: 1.7848 - val_accuracy: 0.3182\n",
            "Epoch 17/50\n",
            "50/50 [==============================] - 9s 173ms/step - loss: 1.8425 - accuracy: 0.2965 - val_loss: 1.7843 - val_accuracy: 0.3320\n",
            "Epoch 18/50\n",
            "50/50 [==============================] - 8s 152ms/step - loss: 1.8324 - accuracy: 0.2984 - val_loss: 1.7708 - val_accuracy: 0.3274\n",
            "Epoch 19/50\n",
            "50/50 [==============================] - 9s 173ms/step - loss: 1.8137 - accuracy: 0.3055 - val_loss: 1.7406 - val_accuracy: 0.3583\n",
            "Epoch 20/50\n",
            "50/50 [==============================] - 8s 166ms/step - loss: 1.8066 - accuracy: 0.3112 - val_loss: 1.7139 - val_accuracy: 0.3576\n",
            "Epoch 21/50\n",
            "50/50 [==============================] - 9s 182ms/step - loss: 1.8071 - accuracy: 0.3101 - val_loss: 1.7124 - val_accuracy: 0.3771\n",
            "Epoch 22/50\n",
            "50/50 [==============================] - 9s 175ms/step - loss: 1.7955 - accuracy: 0.3160 - val_loss: 1.7223 - val_accuracy: 0.3578\n",
            "Epoch 23/50\n",
            "50/50 [==============================] - 9s 177ms/step - loss: 1.7737 - accuracy: 0.3238 - val_loss: 1.7059 - val_accuracy: 0.3664\n",
            "Epoch 24/50\n",
            "50/50 [==============================] - 8s 160ms/step - loss: 1.7840 - accuracy: 0.3205 - val_loss: 1.7266 - val_accuracy: 0.3655\n",
            "Epoch 25/50\n",
            "50/50 [==============================] - 8s 164ms/step - loss: 1.7730 - accuracy: 0.3276 - val_loss: 1.7077 - val_accuracy: 0.3723\n",
            "Epoch 26/50\n",
            "50/50 [==============================] - 11s 221ms/step - loss: 1.7771 - accuracy: 0.3281 - val_loss: 1.7217 - val_accuracy: 0.3396\n",
            "Epoch 27/50\n",
            "50/50 [==============================] - 8s 160ms/step - loss: 1.7706 - accuracy: 0.3298 - val_loss: 1.7157 - val_accuracy: 0.3663\n",
            "Epoch 28/50\n",
            "50/50 [==============================] - 10s 201ms/step - loss: 1.7487 - accuracy: 0.3451 - val_loss: 1.7092 - val_accuracy: 0.3548\n",
            "Epoch 29/50\n",
            "50/50 [==============================] - 9s 189ms/step - loss: 1.7728 - accuracy: 0.3322 - val_loss: 1.7001 - val_accuracy: 0.3736\n",
            "Epoch 30/50\n",
            "50/50 [==============================] - 9s 181ms/step - loss: 1.7511 - accuracy: 0.3448 - val_loss: 1.7051 - val_accuracy: 0.3632\n",
            "Epoch 31/50\n",
            "50/50 [==============================] - 8s 163ms/step - loss: 1.7446 - accuracy: 0.3474 - val_loss: 1.6940 - val_accuracy: 0.3570\n",
            "Epoch 32/50\n",
            "50/50 [==============================] - 8s 166ms/step - loss: 1.7305 - accuracy: 0.3562 - val_loss: 1.6756 - val_accuracy: 0.3883\n",
            "Epoch 33/50\n",
            "50/50 [==============================] - 7s 146ms/step - loss: 1.7197 - accuracy: 0.3628 - val_loss: 1.6754 - val_accuracy: 0.3989\n",
            "Epoch 34/50\n",
            "50/50 [==============================] - 8s 165ms/step - loss: 1.7229 - accuracy: 0.3592 - val_loss: 1.6936 - val_accuracy: 0.3888\n",
            "Epoch 35/50\n",
            "50/50 [==============================] - 9s 182ms/step - loss: 1.7073 - accuracy: 0.3712 - val_loss: 1.7030 - val_accuracy: 0.3981\n",
            "Epoch 36/50\n",
            "50/50 [==============================] - 8s 157ms/step - loss: 1.7104 - accuracy: 0.3731 - val_loss: 1.6593 - val_accuracy: 0.4078\n",
            "Epoch 37/50\n",
            "50/50 [==============================] - 8s 164ms/step - loss: 1.7124 - accuracy: 0.3706 - val_loss: 1.6834 - val_accuracy: 0.3831\n",
            "Epoch 38/50\n",
            "50/50 [==============================] - 10s 195ms/step - loss: 1.7011 - accuracy: 0.3752 - val_loss: 1.6368 - val_accuracy: 0.4181\n",
            "Epoch 39/50\n",
            "50/50 [==============================] - 9s 172ms/step - loss: 1.7025 - accuracy: 0.3772 - val_loss: 1.6654 - val_accuracy: 0.4028\n",
            "Epoch 40/50\n",
            "50/50 [==============================] - 9s 179ms/step - loss: 1.6694 - accuracy: 0.3876 - val_loss: 1.6495 - val_accuracy: 0.4166\n",
            "Epoch 41/50\n",
            "50/50 [==============================] - 7s 148ms/step - loss: 1.6794 - accuracy: 0.3852 - val_loss: 1.6682 - val_accuracy: 0.3866\n",
            "Epoch 42/50\n",
            "50/50 [==============================] - 8s 158ms/step - loss: 1.6821 - accuracy: 0.3798 - val_loss: 1.6326 - val_accuracy: 0.4082\n",
            "Epoch 43/50\n",
            "50/50 [==============================] - 7s 148ms/step - loss: 1.6723 - accuracy: 0.3877 - val_loss: 1.6659 - val_accuracy: 0.4153\n",
            "Epoch 44/50\n",
            "50/50 [==============================] - 9s 174ms/step - loss: 1.6690 - accuracy: 0.3907 - val_loss: 1.6502 - val_accuracy: 0.4173\n",
            "Epoch 45/50\n",
            "50/50 [==============================] - 9s 172ms/step - loss: 1.6626 - accuracy: 0.3930 - val_loss: 1.6457 - val_accuracy: 0.4030\n",
            "Epoch 46/50\n",
            "50/50 [==============================] - 9s 182ms/step - loss: 1.6644 - accuracy: 0.3886 - val_loss: 1.6449 - val_accuracy: 0.4214\n",
            "Epoch 47/50\n",
            "50/50 [==============================] - 10s 194ms/step - loss: 1.6643 - accuracy: 0.3926 - val_loss: 1.6477 - val_accuracy: 0.4224\n",
            "Epoch 48/50\n",
            "50/50 [==============================] - 8s 169ms/step - loss: 1.6544 - accuracy: 0.3983 - val_loss: 1.6721 - val_accuracy: 0.3887\n",
            "Epoch 49/50\n",
            "50/50 [==============================] - 8s 159ms/step - loss: 1.6448 - accuracy: 0.3992 - val_loss: 1.6388 - val_accuracy: 0.4344\n"
          ]
        },
        {
          "output_type": "execute_result",
          "data": {
            "text/plain": [
              "<keras.callbacks.History at 0x7f772d6f7350>"
            ]
          },
          "metadata": {},
          "execution_count": 28
        }
      ]
    },
    {
      "cell_type": "code",
      "metadata": {
        "colab": {
          "base_uri": "https://localhost:8080/"
        },
        "id": "Yc86HL5ltNlv",
        "outputId": "38f7a67d-c439-493d-f0cd-600f06eda3c8"
      },
      "source": [
        "# Evaluate Model\n",
        "score = model.evaluate(X_test, Y_test, verbose=0)\n",
        "\n",
        "# Accuracy Score\n",
        "print('Test Accuracy: ' + str(score[1]))"
      ],
      "execution_count": null,
      "outputs": [
        {
          "output_type": "stream",
          "name": "stdout",
          "text": [
            "Test Accuracy: 0.2535000145435333\n"
          ]
        }
      ]
    },
    {
      "cell_type": "code",
      "metadata": {
        "id": "kbtVr5UEtvEu"
      },
      "source": [
        "# Predict digit (0-9) for test data\n",
        "pred = model.predict(X_test)\n",
        "np.argmax(pred,axis=1)"
      ],
      "execution_count": null,
      "outputs": []
    },
    {
      "cell_type": "code",
      "metadata": {
        "id": "Mc26YKttlFop"
      },
      "source": [
        "# Saving the model\n",
        "model.save('model.h5')\n",
        "jsonModel = model.to_json()\n",
        "model.save_weights('modelWeight.h5')"
      ],
      "execution_count": null,
      "outputs": []
    },
    {
      "cell_type": "code",
      "metadata": {
        "id": "ypQqmXphyLiD"
      },
      "source": [
        "# Load weight of the saved model\n",
        "modelWt = model.load_weights('modelWeight.h5')"
      ],
      "execution_count": null,
      "outputs": []
    },
    {
      "cell_type": "code",
      "metadata": {
        "colab": {
          "base_uri": "https://localhost:8080/"
        },
        "id": "2izSCFqdyVPX",
        "outputId": "8e68e6f4-5cf6-4a67-901f-06ebe045c39c"
      },
      "source": [
        "# Summary of the model\n",
        "model.summary()"
      ],
      "execution_count": null,
      "outputs": [
        {
          "output_type": "stream",
          "name": "stdout",
          "text": [
            "Model: \"sequential\"\n",
            "_________________________________________________________________\n",
            " Layer (type)                Output Shape              Param #   \n",
            "=================================================================\n",
            " dense (Dense)               (None, 512)               1573376   \n",
            "                                                                 \n",
            " activation (Activation)     (None, 512)               0         \n",
            "                                                                 \n",
            " dropout (Dropout)           (None, 512)               0         \n",
            "                                                                 \n",
            " dense_1 (Dense)             (None, 120)               61560     \n",
            "                                                                 \n",
            " activation_1 (Activation)   (None, 120)               0         \n",
            "                                                                 \n",
            " dropout_1 (Dropout)         (None, 120)               0         \n",
            "                                                                 \n",
            " dense_2 (Dense)             (None, 10)                1210      \n",
            "                                                                 \n",
            " activation_2 (Activation)   (None, 10)                0         \n",
            "                                                                 \n",
            "=================================================================\n",
            "Total params: 1,636,146\n",
            "Trainable params: 1,636,146\n",
            "Non-trainable params: 0\n",
            "_________________________________________________________________\n"
          ]
        }
      ]
    },
    {
      "cell_type": "code",
      "metadata": {
        "id": "DWlM0P_-0uq0"
      },
      "source": [
        "model.get_config()"
      ],
      "execution_count": null,
      "outputs": []
    },
    {
      "cell_type": "code",
      "metadata": {
        "id": "6WZrb7Pu02RJ"
      },
      "source": [
        "model.get_weights()"
      ],
      "execution_count": null,
      "outputs": []
    }
  ]
}