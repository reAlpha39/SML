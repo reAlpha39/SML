{
  "nbformat": 4,
  "nbformat_minor": 0,
  "metadata": {
    "colab": {
      "name": "Praktikum PIKB.ipynb",
      "provenance": [],
      "collapsed_sections": []
    },
    "kernelspec": {
      "name": "python3",
      "display_name": "Python 3"
    },
    "language_info": {
      "name": "python"
    }
  },
  "cells": [
    {
      "cell_type": "code",
      "metadata": {
        "colab": {
          "base_uri": "https://localhost:8080/"
        },
        "id": "M-z_lAe86170",
        "outputId": "6b6fa626-db7c-4e0e-969a-ccc393533296"
      },
      "source": [
        "import tensorflow as tf\n",
        "import numpy as np\n",
        "\n",
        "y = np.asarray([20,10,0,-10.,-20.])\n",
        "\n",
        "y_val = tf.convert_to_tensor(y)\n",
        "\n",
        "x = np.asarray([20,1,1,-10.,-20.])\n",
        "\n",
        "l2 = tf.square(y - x)\n",
        "l2_out = tf.round(l2)\n",
        "\n",
        "l1 = tf.abs(y - x)\n",
        "\n",
        "# print(y)\n",
        "print(l1.numpy())"
      ],
      "execution_count": null,
      "outputs": [
        {
          "output_type": "stream",
          "name": "stdout",
          "text": [
            "[ 0. 81.  1.  0.  0.]\n"
          ]
        }
      ]
    },
    {
      "cell_type": "code",
      "metadata": {
        "colab": {
          "base_uri": "https://localhost:8080/"
        },
        "id": "33w8lb_0rAsm",
        "outputId": "3c0f7853-9b7b-4828-9400-8121618ecd28"
      },
      "source": [
        "import tensorflow as tf\n",
        "\n",
        "x = tf.constant([12, 14, 20, 15])\n",
        "y = tf.Variable(x*3 + 100)\n",
        "tf.print(y)"
      ],
      "execution_count": null,
      "outputs": [
        {
          "output_type": "stream",
          "name": "stdout",
          "text": [
            "<tf.Variable 'Variable:0' shape=(4,) dtype=int32, numpy=array([136, 142, 160, 145], dtype=int32)>\n"
          ]
        }
      ]
    },
    {
      "cell_type": "code",
      "metadata": {
        "colab": {
          "base_uri": "https://localhost:8080/"
        },
        "id": "Cg60Dv37P0of",
        "outputId": "184b4d16-5e2f-4978-95b9-b117cb31ac54"
      },
      "source": [
        "import tensorflow as tf\n",
        "\n",
        "image = tf.image.decode_png(tf.io.read_file('./pict.png'), channels=3)\n",
        "tf.print(tf.shape(image))\n",
        "print('\\n')\n",
        "tf.print(image[10:15,0:4,1])"
      ],
      "execution_count": null,
      "outputs": [
        {
          "output_type": "stream",
          "name": "stdout",
          "text": [
            "[1440 2560 3]\n",
            "\n",
            "\n",
            "[[155 155 155 155]\n",
            " [156 156 156 156]\n",
            " [157 157 157 156]\n",
            " [158 158 157 157]\n",
            " [159 159 158 158]]\n"
          ]
        }
      ]
    },
    {
      "cell_type": "code",
      "metadata": {
        "colab": {
          "base_uri": "https://localhost:8080/"
        },
        "id": "GfTYT5MMbK1s",
        "outputId": "d3ddb4e6-3d73-478e-92ab-9871a436a978"
      },
      "source": [
        "#fixed tensor\n",
        "import tensorflow as tf\n",
        "\n",
        "a = tf.zeros([2,3])\n",
        "\n",
        "b = tf.ones([4,3])\n",
        "\n",
        "c = tf.fill([2,3], 7)\n",
        "\n",
        "d = tf.constant([2,4,1,5])\n",
        "tf.print(d)"
      ],
      "execution_count": null,
      "outputs": [
        {
          "output_type": "stream",
          "name": "stdout",
          "text": [
            "[2 4 1 5]\n"
          ]
        }
      ]
    },
    {
      "cell_type": "code",
      "metadata": {
        "colab": {
          "base_uri": "https://localhost:8080/"
        },
        "id": "F8b7v-ZCfiUy",
        "outputId": "d72f8748-57c4-4e46-8dfa-b4b2b8114ae3"
      },
      "source": [
        "# sequence tensor\n",
        "import tensorflow as tf\n",
        "\n",
        "a = tf.range(start=5, limit=50, delta=8)\n",
        "\n",
        "b = tf.linspace(10.0, 31.0, 5)\n",
        "tf.print(b)"
      ],
      "execution_count": null,
      "outputs": [
        {
          "output_type": "stream",
          "name": "stdout",
          "text": [
            "[10 15.25 20.5 25.75 31]\n"
          ]
        }
      ]
    },
    {
      "cell_type": "code",
      "metadata": {
        "colab": {
          "base_uri": "https://localhost:8080/"
        },
        "id": "VRF3gtWmhWRm",
        "outputId": "77962deb-8b1c-4c12-b645-af0e6fab1a75"
      },
      "source": [
        "# random tensor\n",
        "import tensorflow as tf\n",
        "\n",
        "a = tf.random.uniform([2,3], minval=0, maxval=7)\n",
        "\n",
        "b = tf.random.normal([2,3], mean=3, stddev=5)\n",
        "\n",
        "tf.print(a)"
      ],
      "execution_count": null,
      "outputs": [
        {
          "output_type": "stream",
          "name": "stdout",
          "text": [
            "[[2.78276849 2.36601281 5.46969]\n",
            " [0.901890755 -4.2145195 4.04254627]]\n"
          ]
        }
      ]
    },
    {
      "cell_type": "code",
      "metadata": {
        "colab": {
          "base_uri": "https://localhost:8080/"
        },
        "id": "SiMZzNMux2Wy",
        "outputId": "868258c8-a1e4-40cf-f225-c38a1339e5c2"
      },
      "source": [
        "# activation function\n",
        "import tensorflow as tf\n",
        "\n",
        "a = tf.nn.tanh([10,5,2,1,0.5,0,-0.5,-1.,-2.,-5.,-10.])\n",
        "\n",
        "b = tf.sigmoid([10,5,2,1,0.5,0,-0.5,-1.,-2.,-5.,-10.])\n",
        "\n",
        "c = tf.nn.relu([-5,2,-1,10])\n",
        "\n",
        "d = tf.nn.relu6([[-5,2,-1,10],[10,-14,4,-5]])\n",
        "\n",
        "e = tf.nn.elu([10,5,2,1,0.5,0,-0.5,-1.,-2.,-5.,-10.])\n",
        "print(e.numpy())"
      ],
      "execution_count": null,
      "outputs": [
        {
          "output_type": "stream",
          "name": "stdout",
          "text": [
            "[10.          5.          2.          1.          0.5         0.\n",
            " -0.39346933 -0.63212055 -0.86466473 -0.99326205 -0.9999546 ]\n"
          ]
        }
      ]
    },
    {
      "cell_type": "code",
      "metadata": {
        "colab": {
          "base_uri": "https://localhost:8080/"
        },
        "id": "9B0p_uBH6z7v",
        "outputId": "5a6416c6-244a-4404-806b-79ec89d0b31d"
      },
      "source": [
        "# loss function\n",
        "import tensorflow as tf\n",
        "import numpy as np\n",
        "\n",
        "# bayangan prediksi model\n",
        "pred = np.asarray([0.2,0.3,0.7,10.0,13.0,3.4,5.1,6.5,2.4])\n",
        "#konversi data ke tensor\n",
        "x_val = tf.convert_to_tensor(pred)\n",
        "# bayangan hasil asli\n",
        "actual = np.asarray([0.1,0.4,0.5,9.0,14.0,3.5,5.0,6.0,2.1])\n",
        "\n",
        "#L2 loss:L1=(pred-actual)^2\n",
        "l2 = tf.square(pred-actual)\n",
        "l2_out = tf.round(l2)\n",
        "\n",
        "#L2 Loss:L1=abs(pred-actual)\n",
        "l1 = tf.abs(pred-actual)\n",
        "l1_out = l1\n",
        "\n",
        "#cross entropy loss\n",
        "softmax_xentropy_var = \\\n",
        "   tf.nn.sigmoid_cross_entropy_with_logits(logits=l1_out, labels=l2_out)\n",
        "print(softmax_xentropy_var.numpy())"
      ],
      "execution_count": null,
      "outputs": [
        {
          "output_type": "stream",
          "name": "stdout",
          "text": [
            "[0.74439666 0.74439666 0.79813887 0.31326169 0.31326169 0.74439666\n",
            " 0.74439666 0.97407698 0.85435524]\n"
          ]
        }
      ]
    },
    {
      "cell_type": "code",
      "metadata": {
        "colab": {
          "base_uri": "https://localhost:8080/"
        },
        "id": "gsORuJAXOPwG",
        "outputId": "8c50aceb-19a3-4d81-a64b-81459b086a13"
      },
      "source": [
        "# Optimizers\n",
        "import tensorflow as tf\n",
        "\n",
        "# Memasukkan nilai kedalam variable\n",
        "x = tf.Variable(3.0, dtype=tf.float32)\n",
        "log_x = tf.math.log(x)\n",
        "log_x_squared = tf.Variable(tf.square(log_x))\n",
        "\n",
        "# Apply Adam\n",
        "opt = tf.keras.optimizers.Adam(learning_rate=0.7)\n",
        "loss = lambda: (3 * x**2 + 2 * log_x_squared**2) \n",
        "\n",
        "print('start at', 'x:', x.numpy(), 'log(x)^2:', log_x_squared.numpy())\n",
        "for step in range(10):\n",
        "  opt.minimize(loss, [x, log_x_squared]).numpy()\n",
        "  print('step', step, 'x:', x.numpy(), 'log(x)^2:', log_x_squared.numpy())"
      ],
      "execution_count": null,
      "outputs": [
        {
          "output_type": "stream",
          "name": "stdout",
          "text": [
            "start at x: 3.0 log(x)^2: 1.206949\n",
            "step 0 x: 2.3000002 log(x)^2: 0.5069495\n",
            "step 1 x: 1.6108086 log(x)^2: -0.12726283\n",
            "step 2 x: 0.9453439 log(x)^2: -0.57190216\n",
            "step 3 x: 0.3228413 log(x)^2: -0.7434349\n",
            "step 4 x: -0.23097372 log(x)^2: -0.6961493\n",
            "step 5 x: -0.68760407 log(x)^2: -0.51386964\n",
            "step 6 x: -1.024248 log(x)^2: -0.26151392\n",
            "step 7 x: -1.2320495 log(x)^2: 0.007850885\n",
            "step 8 x: -1.3173534 log(x)^2: 0.24551828\n",
            "step 9 x: -1.2964466 log(x)^2: 0.41104752\n"
          ]
        }
      ]
    },
    {
      "cell_type": "code",
      "metadata": {
        "colab": {
          "base_uri": "https://localhost:8080/"
        },
        "id": "vm85wF39apJm",
        "outputId": "8cccb776-8a47-4a8e-f17b-161d858ce7ce"
      },
      "source": [
        "# Metrics\n",
        "import tensorflow as tf\n",
        "import numpy as np\n",
        "\n",
        "x = tf.Variable([1,1,0,1,0], tf.int32)\n",
        "y = tf.Variable([0,1,0,0,1], tf.int32)\n",
        "\n",
        "acc= tf.metrics.binary_accuracy(x, y)\n",
        "\n",
        "tf.print(acc)"
      ],
      "execution_count": null,
      "outputs": [
        {
          "output_type": "stream",
          "name": "stdout",
          "text": [
            "0.4\n"
          ]
        }
      ]
    },
    {
      "cell_type": "code",
      "metadata": {
        "id": "f-Pcl_qjMuBc"
      },
      "source": [
        "import tensorflow as tf\n",
        "import numpy as np\n",
        "\n"
      ],
      "execution_count": null,
      "outputs": []
    }
  ]
}