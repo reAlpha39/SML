{
  "cells": [
    {
      "cell_type": "markdown",
      "metadata": {
        "id": "JGgqjh5YSnZU"
      },
      "source": [
        "# Character-level recurrent sequence-to-sequence model\n",
        "\n",
        "**Author:** [fchollet](https://twitter.com/fchollet)<br>\n",
        "**Date created:** 2017/09/29<br>\n",
        "**Last modified:** 2020/04/26<br>\n",
        "**Description:** Character-level recurrent sequence-to-sequence model."
      ]
    },
    {
      "cell_type": "markdown",
      "metadata": {
        "id": "319Nu_jxSnZY"
      },
      "source": [
        "## Introduction\n",
        "\n",
        "This example demonstrates how to implement a basic character-level\n",
        "recurrent sequence-to-sequence model. We apply it to translating\n",
        "short English sentences into short French sentences,\n",
        "character-by-character. Note that it is fairly unusual to\n",
        "do character-level machine translation, as word-level\n",
        "models are more common in this domain.\n",
        "\n",
        "**Summary of the algorithm**\n",
        "\n",
        "- We start with input sequences from a domain (e.g. English sentences)\n",
        "    and corresponding target sequences from another domain\n",
        "    (e.g. French sentences).\n",
        "- An encoder LSTM turns input sequences to 2 state vectors\n",
        "    (we keep the last LSTM state and discard the outputs).\n",
        "- A decoder LSTM is trained to turn the target sequences into\n",
        "    the same sequence but offset by one timestep in the future,\n",
        "    a training process called \"teacher forcing\" in this context.\n",
        "    It uses as initial state the state vectors from the encoder.\n",
        "    Effectively, the decoder learns to generate `targets[t+1...]`\n",
        "    given `targets[...t]`, conditioned on the input sequence.\n",
        "- In inference mode, when we want to decode unknown input sequences, we:\n",
        "    - Encode the input sequence into state vectors\n",
        "    - Start with a target sequence of size 1\n",
        "        (just the start-of-sequence character)\n",
        "    - Feed the state vectors and 1-char target sequence\n",
        "        to the decoder to produce predictions for the next character\n",
        "    - Sample the next character using these predictions\n",
        "        (we simply use argmax).\n",
        "    - Append the sampled character to the target sequence\n",
        "    - Repeat until we generate the end-of-sequence character or we\n",
        "        hit the character limit.\n"
      ]
    },
    {
      "cell_type": "markdown",
      "metadata": {
        "id": "3INhYZFASnZa"
      },
      "source": [
        "## Setup\n"
      ]
    },
    {
      "cell_type": "code",
      "execution_count": null,
      "metadata": {
        "id": "7Ag9fYWJSnZa"
      },
      "outputs": [],
      "source": [
        "import numpy as np\n",
        "import tensorflow as tf\n",
        "from tensorflow import keras\n"
      ]
    },
    {
      "cell_type": "markdown",
      "metadata": {
        "id": "CfQm1xErSnZc"
      },
      "source": [
        "## Download the data\n"
      ]
    },
    {
      "cell_type": "code",
      "execution_count": null,
      "metadata": {
        "id": "Y0locq-LSnZc",
        "outputId": "c2d74407-6a7d-4264-9a46-54abd2246859",
        "colab": {
          "base_uri": "https://localhost:8080/"
        }
      },
      "outputs": [
        {
          "output_type": "execute_result",
          "data": {
            "text/plain": [
              "['Archive:  fra-eng.zip',\n",
              " '  inflating: _about.txt              ',\n",
              " '  inflating: fra.txt                 ']"
            ]
          },
          "metadata": {},
          "execution_count": 2
        }
      ],
      "source": [
        "!!curl -O http://www.manythings.org/anki/fra-eng.zip\n",
        "!!unzip fra-eng.zip\n"
      ]
    },
    {
      "cell_type": "markdown",
      "metadata": {
        "id": "L25xKs8sSnZd"
      },
      "source": [
        "## Configuration\n"
      ]
    },
    {
      "cell_type": "code",
      "execution_count": null,
      "metadata": {
        "id": "XqWFn5LYSnZe"
      },
      "outputs": [],
      "source": [
        "batch_size = 64  # Batch size for training.\n",
        "epochs = 100  # Number of epochs to train for.\n",
        "latent_dim = 256  # Latent dimensionality of the encoding space.\n",
        "num_samples = 10000  # Number of samples to train on.\n",
        "# Path to the data txt file on disk.\n",
        "data_path = \"fra.txt\"\n"
      ]
    },
    {
      "cell_type": "markdown",
      "metadata": {
        "id": "7Ry8bk9wSnZe"
      },
      "source": [
        "## Prepare the data\n"
      ]
    },
    {
      "cell_type": "code",
      "execution_count": null,
      "metadata": {
        "id": "hoDipTEESnZf",
        "outputId": "e201122d-2aac-49de-8940-32095b49c86e",
        "colab": {
          "base_uri": "https://localhost:8080/"
        }
      },
      "outputs": [
        {
          "output_type": "stream",
          "name": "stdout",
          "text": [
            "Number of samples: 10000\n",
            "Number of unique input tokens: 71\n",
            "Number of unique output tokens: 92\n",
            "Max sequence length for inputs: 15\n",
            "Max sequence length for outputs: 59\n"
          ]
        }
      ],
      "source": [
        "# Vectorize the data.\n",
        "input_texts = []\n",
        "target_texts = []\n",
        "input_characters = set()\n",
        "target_characters = set()\n",
        "with open(data_path, \"r\", encoding=\"utf-8\") as f:\n",
        "    lines = f.read().split(\"\\n\")\n",
        "for line in lines[: min(num_samples, len(lines) - 1)]:\n",
        "    input_text, target_text, _ = line.split(\"\\t\")\n",
        "    # We use \"tab\" as the \"start sequence\" character\n",
        "    # for the targets, and \"\\n\" as \"end sequence\" character.\n",
        "    target_text = \"\\t\" + target_text + \"\\n\"\n",
        "    input_texts.append(input_text)\n",
        "    target_texts.append(target_text)\n",
        "    for char in input_text:\n",
        "        if char not in input_characters:\n",
        "            input_characters.add(char)\n",
        "    for char in target_text:\n",
        "        if char not in target_characters:\n",
        "            target_characters.add(char)\n",
        "\n",
        "input_characters = sorted(list(input_characters))\n",
        "target_characters = sorted(list(target_characters))\n",
        "num_encoder_tokens = len(input_characters)\n",
        "num_decoder_tokens = len(target_characters)\n",
        "max_encoder_seq_length = max([len(txt) for txt in input_texts])\n",
        "max_decoder_seq_length = max([len(txt) for txt in target_texts])\n",
        "\n",
        "print(\"Number of samples:\", len(input_texts))\n",
        "print(\"Number of unique input tokens:\", num_encoder_tokens)\n",
        "print(\"Number of unique output tokens:\", num_decoder_tokens)\n",
        "print(\"Max sequence length for inputs:\", max_encoder_seq_length)\n",
        "print(\"Max sequence length for outputs:\", max_decoder_seq_length)\n",
        "\n",
        "input_token_index = dict([(char, i) for i, char in enumerate(input_characters)])\n",
        "target_token_index = dict([(char, i) for i, char in enumerate(target_characters)])\n",
        "\n",
        "encoder_input_data = np.zeros(\n",
        "    (len(input_texts), max_encoder_seq_length, num_encoder_tokens), dtype=\"float32\"\n",
        ")\n",
        "decoder_input_data = np.zeros(\n",
        "    (len(input_texts), max_decoder_seq_length, num_decoder_tokens), dtype=\"float32\"\n",
        ")\n",
        "decoder_target_data = np.zeros(\n",
        "    (len(input_texts), max_decoder_seq_length, num_decoder_tokens), dtype=\"float32\"\n",
        ")\n",
        "w\n",
        "for i, (input_text, target_text) in enumerate(zip(input_texts, target_texts)):\n",
        "    for t, char in enumerate(input_text):\n",
        "        encoder_input_data[i, t, input_token_index[char]] = 1.0\n",
        "    encoder_input_data[i, t + 1 :, input_token_index[\" \"]] = 1.0\n",
        "    for t, char in enumerate(target_text):\n",
        "        # decoder_target_data is ahead of decoder_input_data by one timestep\n",
        "        decoder_input_data[i, t, target_token_index[char]] = 1.0\n",
        "        if t > 0:\n",
        "            # decoder_target_data will be ahead by one timestep\n",
        "            # and will not include the start character.\n",
        "            decoder_target_data[i, t - 1, target_token_index[char]] = 1.0\n",
        "    decoder_input_data[i, t + 1 :, target_token_index[\" \"]] = 1.0\n",
        "    decoder_target_data[i, t:, target_token_index[\" \"]] = 1.0\n"
      ]
    },
    {
      "cell_type": "markdown",
      "metadata": {
        "id": "BxCIxeqnSnZg"
      },
      "source": [
        "## Build the model\n"
      ]
    },
    {
      "cell_type": "code",
      "execution_count": null,
      "metadata": {
        "id": "e0qK1rFQSnZg"
      },
      "outputs": [],
      "source": [
        "# Define an input sequence and process it.\n",
        "encoder_inputs = keras.Input(shape=(None, num_encoder_tokens))\n",
        "encoder = keras.layers.LSTM(latent_dim, return_state=True)\n",
        "encoder_outputs, state_h, state_c = encoder(encoder_inputs)\n",
        "\n",
        "# We discard `encoder_outputs` and only keep the states.\n",
        "encoder_states = [state_h, state_c]\n",
        "\n",
        "# Set up the decoder, using `encoder_states` as initial state.\n",
        "decoder_inputs = keras.Input(shape=(None, num_decoder_tokens))\n",
        "\n",
        "# We set up our decoder to return full output sequences,\n",
        "# and to return internal states as well. We don't use the\n",
        "# return states in the training model, but we will use them in inference.\n",
        "decoder_lstm = keras.layers.LSTM(latent_dim, return_sequences=True, return_state=True)\n",
        "decoder_outputs, _, _ = decoder_lstm(decoder_inputs, initial_state=encoder_states)\n",
        "decoder_dense = keras.layers.Dense(num_decoder_tokens, activation=\"softmax\")\n",
        "decoder_outputs = decoder_dense(decoder_outputs)\n",
        "\n",
        "# Define the model that will turn\n",
        "# `encoder_input_data` & `decoder_input_data` into `decoder_target_data`\n",
        "model = keras.Model([encoder_inputs, decoder_inputs], decoder_outputs)\n"
      ]
    },
    {
      "cell_type": "markdown",
      "metadata": {
        "id": "AU3LkDoMSnZh"
      },
      "source": [
        "## Train the model\n"
      ]
    },
    {
      "cell_type": "code",
      "execution_count": null,
      "metadata": {
        "id": "yCF_nPezSnZh",
        "outputId": "87f1b0ca-5a7f-469f-9532-5e2b11fb9557",
        "colab": {
          "base_uri": "https://localhost:8080/"
        }
      },
      "outputs": [
        {
          "output_type": "stream",
          "name": "stdout",
          "text": [
            "Epoch 1/100\n",
            "125/125 [==============================] - 13s 51ms/step - loss: 1.1507 - accuracy: 0.7353 - val_loss: 1.0296 - val_accuracy: 0.7141\n",
            "Epoch 2/100\n",
            "125/125 [==============================] - 4s 35ms/step - loss: 0.8155 - accuracy: 0.7791 - val_loss: 0.8230 - val_accuracy: 0.7725\n",
            "Epoch 3/100\n",
            "125/125 [==============================] - 4s 34ms/step - loss: 0.6571 - accuracy: 0.8161 - val_loss: 0.7065 - val_accuracy: 0.7970\n",
            "Epoch 4/100\n",
            "125/125 [==============================] - 4s 35ms/step - loss: 0.5761 - accuracy: 0.8335 - val_loss: 0.6464 - val_accuracy: 0.8103\n",
            "Epoch 5/100\n",
            "125/125 [==============================] - 4s 34ms/step - loss: 0.5268 - accuracy: 0.8462 - val_loss: 0.6014 - val_accuracy: 0.8237\n",
            "Epoch 6/100\n",
            "125/125 [==============================] - 4s 34ms/step - loss: 0.4908 - accuracy: 0.8558 - val_loss: 0.5612 - val_accuracy: 0.8359\n",
            "Epoch 7/100\n",
            "125/125 [==============================] - 4s 34ms/step - loss: 0.4627 - accuracy: 0.8633 - val_loss: 0.5437 - val_accuracy: 0.8391\n",
            "Epoch 8/100\n",
            "125/125 [==============================] - 4s 35ms/step - loss: 0.4390 - accuracy: 0.8695 - val_loss: 0.5176 - val_accuracy: 0.8464\n",
            "Epoch 9/100\n",
            "125/125 [==============================] - 4s 35ms/step - loss: 0.4186 - accuracy: 0.8752 - val_loss: 0.5037 - val_accuracy: 0.8507\n",
            "Epoch 10/100\n",
            "125/125 [==============================] - 5s 36ms/step - loss: 0.4005 - accuracy: 0.8804 - val_loss: 0.4926 - val_accuracy: 0.8535\n",
            "Epoch 11/100\n",
            "125/125 [==============================] - 4s 36ms/step - loss: 0.3838 - accuracy: 0.8849 - val_loss: 0.4823 - val_accuracy: 0.8570\n",
            "Epoch 12/100\n",
            "125/125 [==============================] - 4s 36ms/step - loss: 0.3681 - accuracy: 0.8894 - val_loss: 0.4771 - val_accuracy: 0.8589\n",
            "Epoch 13/100\n",
            "125/125 [==============================] - 4s 36ms/step - loss: 0.3531 - accuracy: 0.8936 - val_loss: 0.4657 - val_accuracy: 0.8631\n",
            "Epoch 14/100\n",
            "125/125 [==============================] - 4s 36ms/step - loss: 0.3392 - accuracy: 0.8975 - val_loss: 0.4698 - val_accuracy: 0.8626\n",
            "Epoch 15/100\n",
            "125/125 [==============================] - 4s 36ms/step - loss: 0.3264 - accuracy: 0.9017 - val_loss: 0.4541 - val_accuracy: 0.8676\n",
            "Epoch 16/100\n",
            "125/125 [==============================] - 4s 36ms/step - loss: 0.3139 - accuracy: 0.9053 - val_loss: 0.4539 - val_accuracy: 0.8671\n",
            "Epoch 17/100\n",
            "125/125 [==============================] - 4s 35ms/step - loss: 0.3022 - accuracy: 0.9088 - val_loss: 0.4444 - val_accuracy: 0.8711\n",
            "Epoch 18/100\n",
            "125/125 [==============================] - 4s 35ms/step - loss: 0.2907 - accuracy: 0.9121 - val_loss: 0.4486 - val_accuracy: 0.8706\n",
            "Epoch 19/100\n",
            "125/125 [==============================] - 4s 35ms/step - loss: 0.2804 - accuracy: 0.9154 - val_loss: 0.4415 - val_accuracy: 0.8727\n",
            "Epoch 20/100\n",
            "125/125 [==============================] - 4s 35ms/step - loss: 0.2701 - accuracy: 0.9183 - val_loss: 0.4453 - val_accuracy: 0.8724\n",
            "Epoch 21/100\n",
            "125/125 [==============================] - 4s 35ms/step - loss: 0.2604 - accuracy: 0.9211 - val_loss: 0.4450 - val_accuracy: 0.8726\n",
            "Epoch 22/100\n",
            "125/125 [==============================] - 4s 35ms/step - loss: 0.2515 - accuracy: 0.9238 - val_loss: 0.4479 - val_accuracy: 0.8727\n",
            "Epoch 23/100\n",
            "125/125 [==============================] - 4s 35ms/step - loss: 0.2427 - accuracy: 0.9264 - val_loss: 0.4475 - val_accuracy: 0.8726\n",
            "Epoch 24/100\n",
            "125/125 [==============================] - 4s 35ms/step - loss: 0.2345 - accuracy: 0.9288 - val_loss: 0.4485 - val_accuracy: 0.8737\n",
            "Epoch 25/100\n",
            "125/125 [==============================] - 4s 35ms/step - loss: 0.2260 - accuracy: 0.9314 - val_loss: 0.4527 - val_accuracy: 0.8740\n",
            "Epoch 26/100\n",
            "125/125 [==============================] - 4s 35ms/step - loss: 0.2187 - accuracy: 0.9340 - val_loss: 0.4531 - val_accuracy: 0.8761\n",
            "Epoch 27/100\n",
            "125/125 [==============================] - 4s 35ms/step - loss: 0.2113 - accuracy: 0.9358 - val_loss: 0.4534 - val_accuracy: 0.8752\n",
            "Epoch 28/100\n",
            "125/125 [==============================] - 4s 35ms/step - loss: 0.2045 - accuracy: 0.9379 - val_loss: 0.4596 - val_accuracy: 0.8757\n",
            "Epoch 29/100\n",
            "125/125 [==============================] - 4s 35ms/step - loss: 0.1975 - accuracy: 0.9399 - val_loss: 0.4649 - val_accuracy: 0.8747\n",
            "Epoch 30/100\n",
            "125/125 [==============================] - 4s 35ms/step - loss: 0.1916 - accuracy: 0.9418 - val_loss: 0.4734 - val_accuracy: 0.8746\n",
            "Epoch 31/100\n",
            "125/125 [==============================] - 4s 35ms/step - loss: 0.1853 - accuracy: 0.9436 - val_loss: 0.4739 - val_accuracy: 0.8746\n",
            "Epoch 32/100\n",
            "125/125 [==============================] - 4s 35ms/step - loss: 0.1796 - accuracy: 0.9451 - val_loss: 0.4811 - val_accuracy: 0.8731\n",
            "Epoch 33/100\n",
            "125/125 [==============================] - 4s 35ms/step - loss: 0.1740 - accuracy: 0.9473 - val_loss: 0.4827 - val_accuracy: 0.8750\n",
            "Epoch 34/100\n",
            "125/125 [==============================] - 4s 35ms/step - loss: 0.1685 - accuracy: 0.9484 - val_loss: 0.4848 - val_accuracy: 0.8753\n",
            "Epoch 35/100\n",
            "125/125 [==============================] - 4s 35ms/step - loss: 0.1635 - accuracy: 0.9499 - val_loss: 0.4953 - val_accuracy: 0.8748\n",
            "Epoch 36/100\n",
            "125/125 [==============================] - 4s 35ms/step - loss: 0.1586 - accuracy: 0.9513 - val_loss: 0.4940 - val_accuracy: 0.8739\n",
            "Epoch 37/100\n",
            "125/125 [==============================] - 5s 37ms/step - loss: 0.1537 - accuracy: 0.9531 - val_loss: 0.4965 - val_accuracy: 0.8753\n",
            "Epoch 38/100\n",
            "125/125 [==============================] - 4s 35ms/step - loss: 0.1495 - accuracy: 0.9542 - val_loss: 0.5033 - val_accuracy: 0.8750\n",
            "Epoch 39/100\n",
            "125/125 [==============================] - 4s 35ms/step - loss: 0.1453 - accuracy: 0.9553 - val_loss: 0.5092 - val_accuracy: 0.8744\n",
            "Epoch 40/100\n",
            "125/125 [==============================] - 4s 35ms/step - loss: 0.1411 - accuracy: 0.9568 - val_loss: 0.5192 - val_accuracy: 0.8744\n",
            "Epoch 41/100\n",
            "125/125 [==============================] - 4s 35ms/step - loss: 0.1374 - accuracy: 0.9577 - val_loss: 0.5187 - val_accuracy: 0.8747\n",
            "Epoch 42/100\n",
            "125/125 [==============================] - 4s 35ms/step - loss: 0.1335 - accuracy: 0.9587 - val_loss: 0.5253 - val_accuracy: 0.8740\n",
            "Epoch 43/100\n",
            "125/125 [==============================] - 4s 35ms/step - loss: 0.1298 - accuracy: 0.9597 - val_loss: 0.5339 - val_accuracy: 0.8738\n",
            "Epoch 44/100\n",
            "125/125 [==============================] - 4s 35ms/step - loss: 0.1261 - accuracy: 0.9613 - val_loss: 0.5348 - val_accuracy: 0.8741\n",
            "Epoch 45/100\n",
            "125/125 [==============================] - 4s 35ms/step - loss: 0.1233 - accuracy: 0.9616 - val_loss: 0.5455 - val_accuracy: 0.8736\n",
            "Epoch 46/100\n",
            "125/125 [==============================] - 4s 35ms/step - loss: 0.1197 - accuracy: 0.9629 - val_loss: 0.5463 - val_accuracy: 0.8732\n",
            "Epoch 47/100\n",
            "125/125 [==============================] - 4s 35ms/step - loss: 0.1167 - accuracy: 0.9636 - val_loss: 0.5555 - val_accuracy: 0.8739\n",
            "Epoch 48/100\n",
            "125/125 [==============================] - 4s 35ms/step - loss: 0.1136 - accuracy: 0.9647 - val_loss: 0.5586 - val_accuracy: 0.8734\n",
            "Epoch 49/100\n",
            "125/125 [==============================] - 4s 36ms/step - loss: 0.1108 - accuracy: 0.9655 - val_loss: 0.5565 - val_accuracy: 0.8750\n",
            "Epoch 50/100\n",
            "125/125 [==============================] - 4s 35ms/step - loss: 0.1080 - accuracy: 0.9663 - val_loss: 0.5610 - val_accuracy: 0.8738\n",
            "Epoch 51/100\n",
            "125/125 [==============================] - 4s 35ms/step - loss: 0.1053 - accuracy: 0.9667 - val_loss: 0.5804 - val_accuracy: 0.8723\n",
            "Epoch 52/100\n",
            "125/125 [==============================] - 4s 35ms/step - loss: 0.1027 - accuracy: 0.9680 - val_loss: 0.5771 - val_accuracy: 0.8734\n",
            "Epoch 53/100\n",
            "125/125 [==============================] - 4s 35ms/step - loss: 0.1003 - accuracy: 0.9684 - val_loss: 0.5829 - val_accuracy: 0.8729\n",
            "Epoch 54/100\n",
            "125/125 [==============================] - 4s 36ms/step - loss: 0.0980 - accuracy: 0.9692 - val_loss: 0.5848 - val_accuracy: 0.8737\n",
            "Epoch 55/100\n",
            "125/125 [==============================] - 4s 36ms/step - loss: 0.0957 - accuracy: 0.9698 - val_loss: 0.5891 - val_accuracy: 0.8730\n",
            "Epoch 56/100\n",
            "125/125 [==============================] - 4s 36ms/step - loss: 0.0938 - accuracy: 0.9702 - val_loss: 0.5998 - val_accuracy: 0.8722\n",
            "Epoch 57/100\n",
            "125/125 [==============================] - 4s 35ms/step - loss: 0.0913 - accuracy: 0.9710 - val_loss: 0.6054 - val_accuracy: 0.8729\n",
            "Epoch 58/100\n",
            "125/125 [==============================] - 4s 35ms/step - loss: 0.0896 - accuracy: 0.9715 - val_loss: 0.6050 - val_accuracy: 0.8730\n",
            "Epoch 59/100\n",
            "125/125 [==============================] - 4s 36ms/step - loss: 0.0874 - accuracy: 0.9722 - val_loss: 0.6164 - val_accuracy: 0.8716\n",
            "Epoch 60/100\n",
            "125/125 [==============================] - 4s 35ms/step - loss: 0.0856 - accuracy: 0.9727 - val_loss: 0.6192 - val_accuracy: 0.8718\n",
            "Epoch 61/100\n",
            "125/125 [==============================] - 4s 35ms/step - loss: 0.0837 - accuracy: 0.9730 - val_loss: 0.6172 - val_accuracy: 0.8719\n",
            "Epoch 62/100\n",
            "125/125 [==============================] - 4s 35ms/step - loss: 0.0823 - accuracy: 0.9735 - val_loss: 0.6267 - val_accuracy: 0.8713\n",
            "Epoch 63/100\n",
            "125/125 [==============================] - 4s 36ms/step - loss: 0.0802 - accuracy: 0.9743 - val_loss: 0.6290 - val_accuracy: 0.8723\n",
            "Epoch 64/100\n",
            "125/125 [==============================] - 4s 35ms/step - loss: 0.0789 - accuracy: 0.9745 - val_loss: 0.6366 - val_accuracy: 0.8719\n",
            "Epoch 65/100\n",
            "125/125 [==============================] - 4s 35ms/step - loss: 0.0769 - accuracy: 0.9749 - val_loss: 0.6393 - val_accuracy: 0.8719\n",
            "Epoch 66/100\n",
            "125/125 [==============================] - 4s 35ms/step - loss: 0.0755 - accuracy: 0.9755 - val_loss: 0.6549 - val_accuracy: 0.8712\n",
            "Epoch 67/100\n",
            "125/125 [==============================] - 4s 35ms/step - loss: 0.0740 - accuracy: 0.9759 - val_loss: 0.6468 - val_accuracy: 0.8713\n",
            "Epoch 68/100\n",
            "125/125 [==============================] - 4s 35ms/step - loss: 0.0724 - accuracy: 0.9763 - val_loss: 0.6562 - val_accuracy: 0.8719\n",
            "Epoch 69/100\n",
            "125/125 [==============================] - 4s 35ms/step - loss: 0.0710 - accuracy: 0.9767 - val_loss: 0.6596 - val_accuracy: 0.8711\n",
            "Epoch 70/100\n",
            "125/125 [==============================] - 4s 36ms/step - loss: 0.0697 - accuracy: 0.9771 - val_loss: 0.6611 - val_accuracy: 0.8716\n",
            "Epoch 71/100\n",
            "125/125 [==============================] - 4s 35ms/step - loss: 0.0686 - accuracy: 0.9775 - val_loss: 0.6718 - val_accuracy: 0.8721\n",
            "Epoch 72/100\n",
            "125/125 [==============================] - 4s 35ms/step - loss: 0.0671 - accuracy: 0.9778 - val_loss: 0.6778 - val_accuracy: 0.8707\n",
            "Epoch 73/100\n",
            "125/125 [==============================] - 4s 35ms/step - loss: 0.0660 - accuracy: 0.9780 - val_loss: 0.6777 - val_accuracy: 0.8709\n",
            "Epoch 74/100\n",
            "125/125 [==============================] - 4s 35ms/step - loss: 0.0646 - accuracy: 0.9784 - val_loss: 0.6801 - val_accuracy: 0.8718\n",
            "Epoch 75/100\n",
            "125/125 [==============================] - 4s 36ms/step - loss: 0.0635 - accuracy: 0.9787 - val_loss: 0.6872 - val_accuracy: 0.8710\n",
            "Epoch 76/100\n",
            "125/125 [==============================] - 4s 36ms/step - loss: 0.0626 - accuracy: 0.9792 - val_loss: 0.6867 - val_accuracy: 0.8718\n",
            "Epoch 77/100\n",
            "125/125 [==============================] - 4s 35ms/step - loss: 0.0611 - accuracy: 0.9796 - val_loss: 0.7038 - val_accuracy: 0.8703\n",
            "Epoch 78/100\n",
            "125/125 [==============================] - 4s 35ms/step - loss: 0.0606 - accuracy: 0.9795 - val_loss: 0.7054 - val_accuracy: 0.8703\n",
            "Epoch 79/100\n",
            "125/125 [==============================] - 4s 35ms/step - loss: 0.0593 - accuracy: 0.9798 - val_loss: 0.7055 - val_accuracy: 0.8705\n",
            "Epoch 80/100\n",
            "125/125 [==============================] - 4s 36ms/step - loss: 0.0586 - accuracy: 0.9802 - val_loss: 0.7075 - val_accuracy: 0.8699\n",
            "Epoch 81/100\n",
            "125/125 [==============================] - 4s 36ms/step - loss: 0.0737 - accuracy: 0.9782 - val_loss: 0.7063 - val_accuracy: 0.8711\n",
            "Epoch 82/100\n",
            "125/125 [==============================] - 4s 35ms/step - loss: 0.0527 - accuracy: 0.9820 - val_loss: 0.7129 - val_accuracy: 0.8709\n",
            "Epoch 83/100\n",
            "125/125 [==============================] - 4s 35ms/step - loss: 0.0559 - accuracy: 0.9809 - val_loss: 0.7177 - val_accuracy: 0.8703\n",
            "Epoch 84/100\n",
            "125/125 [==============================] - 4s 35ms/step - loss: 0.0551 - accuracy: 0.9812 - val_loss: 0.7222 - val_accuracy: 0.8710\n",
            "Epoch 85/100\n",
            "125/125 [==============================] - 4s 35ms/step - loss: 0.0543 - accuracy: 0.9814 - val_loss: 0.7252 - val_accuracy: 0.8704\n",
            "Epoch 86/100\n",
            "125/125 [==============================] - 4s 35ms/step - loss: 0.0534 - accuracy: 0.9817 - val_loss: 0.7260 - val_accuracy: 0.8699\n",
            "Epoch 87/100\n",
            "125/125 [==============================] - 4s 35ms/step - loss: 0.0526 - accuracy: 0.9817 - val_loss: 0.7308 - val_accuracy: 0.8703\n",
            "Epoch 88/100\n",
            "125/125 [==============================] - 4s 36ms/step - loss: 0.0516 - accuracy: 0.9822 - val_loss: 0.7381 - val_accuracy: 0.8702\n",
            "Epoch 89/100\n",
            "125/125 [==============================] - 4s 36ms/step - loss: 0.0511 - accuracy: 0.9824 - val_loss: 0.7413 - val_accuracy: 0.8696\n",
            "Epoch 90/100\n",
            "125/125 [==============================] - 4s 36ms/step - loss: 0.0502 - accuracy: 0.9825 - val_loss: 0.7384 - val_accuracy: 0.8701\n",
            "Epoch 91/100\n",
            "125/125 [==============================] - 4s 36ms/step - loss: 0.0498 - accuracy: 0.9826 - val_loss: 0.7426 - val_accuracy: 0.8700\n",
            "Epoch 92/100\n",
            "125/125 [==============================] - 5s 36ms/step - loss: 0.0492 - accuracy: 0.9827 - val_loss: 0.7466 - val_accuracy: 0.8701\n",
            "Epoch 93/100\n",
            "125/125 [==============================] - 4s 36ms/step - loss: 0.0486 - accuracy: 0.9829 - val_loss: 0.7472 - val_accuracy: 0.8700\n",
            "Epoch 94/100\n",
            "125/125 [==============================] - 4s 35ms/step - loss: 0.0477 - accuracy: 0.9832 - val_loss: 0.7594 - val_accuracy: 0.8695\n",
            "Epoch 95/100\n",
            "125/125 [==============================] - 4s 35ms/step - loss: 0.0471 - accuracy: 0.9833 - val_loss: 0.7515 - val_accuracy: 0.8711\n",
            "Epoch 96/100\n",
            "125/125 [==============================] - 4s 35ms/step - loss: 0.0464 - accuracy: 0.9836 - val_loss: 0.7624 - val_accuracy: 0.8702\n",
            "Epoch 97/100\n",
            "125/125 [==============================] - 4s 34ms/step - loss: 0.0462 - accuracy: 0.9834 - val_loss: 0.7638 - val_accuracy: 0.8707\n",
            "Epoch 98/100\n",
            "125/125 [==============================] - 4s 35ms/step - loss: 0.0457 - accuracy: 0.9836 - val_loss: 0.7657 - val_accuracy: 0.8701\n",
            "Epoch 99/100\n",
            "125/125 [==============================] - 4s 35ms/step - loss: 0.0451 - accuracy: 0.9840 - val_loss: 0.7746 - val_accuracy: 0.8699\n",
            "Epoch 100/100\n",
            "125/125 [==============================] - 4s 35ms/step - loss: 0.0444 - accuracy: 0.9841 - val_loss: 0.7774 - val_accuracy: 0.8698\n"
          ]
        },
        {
          "output_type": "stream",
          "name": "stderr",
          "text": [
            "WARNING:absl:Found untraced functions such as lstm_cell_layer_call_fn, lstm_cell_layer_call_and_return_conditional_losses, lstm_cell_1_layer_call_fn, lstm_cell_1_layer_call_and_return_conditional_losses, lstm_cell_layer_call_fn while saving (showing 5 of 10). These functions will not be directly callable after loading.\n"
          ]
        },
        {
          "output_type": "stream",
          "name": "stdout",
          "text": [
            "INFO:tensorflow:Assets written to: s2s/assets\n"
          ]
        },
        {
          "output_type": "stream",
          "name": "stderr",
          "text": [
            "INFO:tensorflow:Assets written to: s2s/assets\n",
            "WARNING:absl:<keras.layers.recurrent.LSTMCell object at 0x7f2698db31d0> has the same name 'LSTMCell' as a built-in Keras object. Consider renaming <class 'keras.layers.recurrent.LSTMCell'> to avoid naming conflicts when loading with `tf.keras.models.load_model`. If renaming is not possible, pass the object in the `custom_objects` parameter of the load function.\n",
            "WARNING:absl:<keras.layers.recurrent.LSTMCell object at 0x7f26903ec090> has the same name 'LSTMCell' as a built-in Keras object. Consider renaming <class 'keras.layers.recurrent.LSTMCell'> to avoid naming conflicts when loading with `tf.keras.models.load_model`. If renaming is not possible, pass the object in the `custom_objects` parameter of the load function.\n"
          ]
        }
      ],
      "source": [
        "model.compile(\n",
        "    optimizer=\"rmsprop\", loss=\"categorical_crossentropy\", metrics=[\"accuracy\"]\n",
        ")\n",
        "model.fit(\n",
        "    [encoder_input_data, decoder_input_data],\n",
        "    decoder_target_data,\n",
        "    batch_size=batch_size,\n",
        "    epochs=epochs,\n",
        "    validation_split=0.2,\n",
        ")\n",
        "# Save model\n",
        "model.save(\"s2s\")\n"
      ]
    },
    {
      "cell_type": "markdown",
      "metadata": {
        "id": "BcnaDU9VSnZi"
      },
      "source": [
        "## Run inference (sampling)\n",
        "\n",
        "1. encode input and retrieve initial decoder state\n",
        "2. run one step of decoder with this initial state\n",
        "and a \"start of sequence\" token as target.\n",
        "Output will be the next target token.\n",
        "3. Repeat with the current target token and current states\n"
      ]
    },
    {
      "cell_type": "code",
      "execution_count": null,
      "metadata": {
        "id": "2xJHdM2ZSnZi"
      },
      "outputs": [],
      "source": [
        "# Define sampling models\n",
        "# Restore the model and construct the encoder and decoder.\n",
        "model = keras.models.load_model(\"s2s\")\n",
        "\n",
        "encoder_inputs = model.input[0]  # input_1\n",
        "encoder_outputs, state_h_enc, state_c_enc = model.layers[2].output  # lstm_1\n",
        "encoder_states = [state_h_enc, state_c_enc]\n",
        "encoder_model = keras.Model(encoder_inputs, encoder_states)\n",
        "\n",
        "decoder_inputs = model.input[1]  # input_2\n",
        "decoder_state_input_h = keras.Input(shape=(latent_dim,))\n",
        "decoder_state_input_c = keras.Input(shape=(latent_dim,))\n",
        "decoder_states_inputs = [decoder_state_input_h, decoder_state_input_c]\n",
        "decoder_lstm = model.layers[3]\n",
        "decoder_outputs, state_h_dec, state_c_dec = decoder_lstm(\n",
        "    decoder_inputs, initial_state=decoder_states_inputs\n",
        ")\n",
        "decoder_states = [state_h_dec, state_c_dec]\n",
        "decoder_dense = model.layers[4]\n",
        "decoder_outputs = decoder_dense(decoder_outputs)\n",
        "decoder_model = keras.Model(\n",
        "    [decoder_inputs] + decoder_states_inputs, [decoder_outputs] + decoder_states\n",
        ")\n",
        "\n",
        "# Reverse-lookup token index to decode sequences back to\n",
        "# something readable.\n",
        "reverse_input_char_index = dict((i, char) for char, i in input_token_index.items())\n",
        "reverse_target_char_index = dict((i, char) for char, i in target_token_index.items())\n",
        "\n",
        "\n",
        "def decode_sequence(input_seq):\n",
        "    # Encode the input as state vectors.\n",
        "    states_value = encoder_model.predict(input_seq)\n",
        "\n",
        "    # Generate empty target sequence of length 1.\n",
        "    target_seq = np.zeros((1, 1, num_decoder_tokens))\n",
        "    # Populate the first character of target sequence with the start character.\n",
        "    target_seq[0, 0, target_token_index[\"\\t\"]] = 1.0\n",
        "\n",
        "    # Sampling loop for a batch of sequences\n",
        "    # (to simplify, here we assume a batch of size 1).\n",
        "    stop_condition = False\n",
        "    decoded_sentence = \"\"\n",
        "    while not stop_condition:\n",
        "        output_tokens, h, c = decoder_model.predict([target_seq] + states_value)\n",
        "\n",
        "        # Sample a token\n",
        "        sampled_token_index = np.argmax(output_tokens[0, -1, :])\n",
        "        sampled_char = reverse_target_char_index[sampled_token_index]\n",
        "        decoded_sentence += sampled_char\n",
        "\n",
        "        # Exit condition: either hit max length\n",
        "        # or find stop character.\n",
        "        if sampled_char == \"\\n\" or len(decoded_sentence) > max_decoder_seq_length:\n",
        "            stop_condition = True\n",
        "\n",
        "        # Update the target sequence (of length 1).\n",
        "        target_seq = np.zeros((1, 1, num_decoder_tokens))\n",
        "        target_seq[0, 0, sampled_token_index] = 1.0\n",
        "\n",
        "        # Update states\n",
        "        states_value = [h, c]\n",
        "    return decoded_sentence\n",
        "\n"
      ]
    },
    {
      "cell_type": "markdown",
      "metadata": {
        "id": "fdZ3HG3-SnZi"
      },
      "source": [
        "You can now generate decoded sentences as such:\n"
      ]
    },
    {
      "cell_type": "code",
      "execution_count": null,
      "metadata": {
        "id": "6RaIGyLgSnZj",
        "outputId": "363fcd02-0371-4d4e-d2dc-ecf74781b3ac",
        "colab": {
          "base_uri": "https://localhost:8080/"
        }
      },
      "outputs": [
        {
          "output_type": "stream",
          "name": "stdout",
          "text": [
            "-\n",
            "Input sentence: Go.\n",
            "Decoded sentence: Marche.\n",
            "\n",
            "-\n",
            "Input sentence: Go.\n",
            "Decoded sentence: Marche.\n",
            "\n",
            "-\n",
            "Input sentence: Go.\n",
            "Decoded sentence: Marche.\n",
            "\n",
            "-\n",
            "Input sentence: Hi.\n",
            "Decoded sentence: Salut.\n",
            "\n",
            "-\n",
            "Input sentence: Hi.\n",
            "Decoded sentence: Salut.\n",
            "\n",
            "-\n",
            "Input sentence: Run!\n",
            "Decoded sentence: File !\n",
            "\n",
            "-\n",
            "Input sentence: Run!\n",
            "Decoded sentence: File !\n",
            "\n",
            "-\n",
            "Input sentence: Run!\n",
            "Decoded sentence: File !\n",
            "\n",
            "-\n",
            "Input sentence: Run!\n",
            "Decoded sentence: File !\n",
            "\n",
            "-\n",
            "Input sentence: Run!\n",
            "Decoded sentence: File !\n",
            "\n",
            "-\n",
            "Input sentence: Run!\n",
            "Decoded sentence: File !\n",
            "\n",
            "-\n",
            "Input sentence: Run!\n",
            "Decoded sentence: File !\n",
            "\n",
            "-\n",
            "Input sentence: Run!\n",
            "Decoded sentence: File !\n",
            "\n",
            "-\n",
            "Input sentence: Run.\n",
            "Decoded sentence: File !\n",
            "\n",
            "-\n",
            "Input sentence: Run.\n",
            "Decoded sentence: File !\n",
            "\n",
            "-\n",
            "Input sentence: Run.\n",
            "Decoded sentence: File !\n",
            "\n",
            "-\n",
            "Input sentence: Run.\n",
            "Decoded sentence: File !\n",
            "\n",
            "-\n",
            "Input sentence: Run.\n",
            "Decoded sentence: File !\n",
            "\n",
            "-\n",
            "Input sentence: Run.\n",
            "Decoded sentence: File !\n",
            "\n",
            "-\n",
            "Input sentence: Run.\n",
            "Decoded sentence: File !\n",
            "\n"
          ]
        }
      ],
      "source": [
        "for seq_index in range(20):\n",
        "    # Take one sequence (part of the training set)\n",
        "    # for trying out decoding.\n",
        "    input_seq = encoder_input_data[seq_index : seq_index + 1]\n",
        "    decoded_sentence = decode_sequence(input_seq)\n",
        "    print(\"-\")\n",
        "    print(\"Input sentence:\", input_texts[seq_index])\n",
        "    print(\"Decoded sentence:\", decoded_sentence)\n"
      ]
    }
  ],
  "metadata": {
    "colab": {
      "collapsed_sections": [],
      "name": "lstm_seq2seq",
      "provenance": []
    },
    "kernelspec": {
      "display_name": "Python 3",
      "language": "python",
      "name": "python3"
    },
    "language_info": {
      "codemirror_mode": {
        "name": "ipython",
        "version": 3
      },
      "file_extension": ".py",
      "mimetype": "text/x-python",
      "name": "python",
      "nbconvert_exporter": "python",
      "pygments_lexer": "ipython3",
      "version": "3.7.0"
    },
    "accelerator": "GPU"
  },
  "nbformat": 4,
  "nbformat_minor": 0
}